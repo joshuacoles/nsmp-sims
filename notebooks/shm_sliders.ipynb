{
 "cells": [
  {
   "cell_type": "code",
   "execution_count": 138,
   "metadata": {
    "collapsed": true,
    "pycharm": {
     "name": "#%%\n"
    }
   },
   "outputs": [],
   "source": [
    "# Maths Imports\n",
    "import numpy as np\n",
    "import matplotlib.pyplot as plt\n",
    "from scipy.optimize import curve_fit\n",
    "\n",
    "# Jupyter Imports\n",
    "from IPython.core.display import display, HTML, Math\n",
    "from ipywidgets import interact, fixed, FloatSlider\n",
    "\n",
    "# We like tables\n",
    "import tabulate\n",
    "\n",
    "## Graph Config (borrowed from StatsForLab)\n",
    "%matplotlib inline\n",
    "# Peter Sloan is very particular about his graphs.\n",
    "# These next lines will help Peter-i-fy your graph. Again, don't worry too much about how this works for now.\n",
    "from matplotlib import rcParams\n",
    "rcParams['xtick.direction'] = 'in'\n",
    "rcParams['ytick.direction'] = 'in'\n",
    "rcParams['errorbar.capsize'] = 3\n",
    "rcParams['lines.markersize'] = 10\n",
    "rcParams['figure.figsize'] = 8, 5\n"
   ]
  },
  {
   "cell_type": "markdown",
   "source": [
    "# Introduction to Modelling\n",
    "\n",
    "I don't really know what these documents are supposed to be. This is based off of @Samuel Cottee's SHM python files — with some additions by me (@Joshua Coles) to make it pretty in a Jupyter notebook.\n",
    "\n",
    "At the moment this is designed as a showcase of what Jupyter notebooks can do / possibly the start of a \"handout\" to be given to students to play around with and act as instructions for an assignment and an example of the *output* that is to be expected from running the different tasks.\n",
    "\n",
    "This document uses python concepts which are probably to complex to be shown to students directly, but the code itself can be hidden providing snippets to guide them.\n",
    "\n",
    "```py\n",
    "def acc(x, k, m):\n",
    "    return -(k / m) * x\n",
    "```"
   ],
   "metadata": {
    "collapsed": false,
    "pycharm": {
     "name": "#%% md\n"
    }
   }
  },
  {
   "cell_type": "markdown",
   "source": [
    "## Model\n",
    "\n",
    "First we make a simple SHM model, the system is constructed as `SHM(k, m, initial_x, initial_v)` which can\n",
    "either be subjected to a time step model or, as the theory is relatively simple, the \"ideal\" graphs shown."
   ],
   "metadata": {
    "collapsed": false
   }
  },
  {
   "cell_type": "code",
   "execution_count": 139,
   "outputs": [],
   "source": [
    "class SHM(object):\n",
    "    def __init__(self, k, m, initial_x, initial_v):\n",
    "        self.k = k\n",
    "        self.m = m\n",
    "        self.initial_x = initial_x\n",
    "        self.initial_v = initial_v\n",
    "\n",
    "        # Theory variables\n",
    "        self.omega = np.sqrt(k/m)\n",
    "        self.phi = np.arctan2(initial_v, -self.omega * initial_x)\n",
    "        self.amplitude = (initial_x / np.cos(self.phi)) or \\\n",
    "                         (initial_v / (-self.omega * np.sin(self.phi)))\n",
    "\n",
    "\n",
    "    def theory(self, t):\n",
    "        x = self.amplitude * np.cos(self.omega * t + self.phi)\n",
    "        v = -self.amplitude * self.omega * np.sin(self.omega * t + self.phi)\n",
    "        return [x, v]\n",
    "\n",
    "\n",
    "    def acc(self, x):\n",
    "        return -(self.k / self.m) * x\n",
    "\n",
    "\n",
    "    def model(self, dt, t_max):\n",
    "        time_steps = np.arange(0, t_max, dt)\n",
    "        n = len(time_steps)\n",
    "\n",
    "        # Initial Conditions\n",
    "        x = [self.initial_x]\n",
    "        v = [self.initial_v]\n",
    "\n",
    "        for i in range(n - 1):\n",
    "            v.append(v[i] + self.acc(x[i]) * dt)\n",
    "            x.append(x[i] + v[i] * dt)\n",
    "\n",
    "        return [time_steps, x, v]\n",
    "\n",
    "    # This function is provided for scipy.optimize.curve_fit\n",
    "    # It must be in the form f(independent variable, parameters)\n",
    "    @staticmethod\n",
    "    def curve_fit_x(t, amplitude, omega, phi):\n",
    "        return amplitude * np.cos(omega * t + phi)"
   ],
   "metadata": {
    "collapsed": false,
    "pycharm": {
     "name": "#%%\n"
    }
   }
  },
  {
   "cell_type": "markdown",
   "source": [
    "## SHM Playground\n",
    "\n",
    "Here we provide a plot of the `x, v` variables as time progresses, with sliders to help the students understand\n",
    "what changing each thing does, this might be more helpful for example, in DHM."
   ],
   "metadata": {
    "collapsed": false,
    "pycharm": {
     "name": "#%% md\n"
    }
   }
  },
  {
   "cell_type": "code",
   "execution_count": 140,
   "outputs": [
    {
     "data": {
      "text/plain": "interactive(children=(FloatSlider(value=0.1, description='k', max=5.0, min=0.1), FloatSlider(value=0.1, descri…",
      "application/vnd.jupyter.widget-view+json": {
       "version_major": 2,
       "version_minor": 0,
       "model_id": "2786997220834b8fb9e68bf110badb17"
      }
     },
     "metadata": {},
     "output_type": "display_data"
    }
   ],
   "source": [
    "k_slider = FloatSlider(min=0.1, max=5, step=0.1)\n",
    "m_slider = FloatSlider(min=0.1, max=5, step=0.1)\n",
    "\n",
    "initial_x_slider = FloatSlider(min=-3, max=3, step=0.1)\n",
    "initial_v_slider = FloatSlider(min=-3, max=3, step=0.1)\n",
    "\n",
    "@interact(k=k_slider, m=m_slider, initial_x=initial_x_slider, initial_v=initial_v_slider)\n",
    "def shm_playground(k, m, initial_x, initial_v):\n",
    "    shm = SHM(k, m, initial_x, initial_v)\n",
    "\n",
    "    t = np.arange(0, 10, 0.01)\n",
    "    x, v = shm.theory(t)\n",
    "\n",
    "    plt.figure()\n",
    "\n",
    "    plt.plot(t, x, label=\"Position\")\n",
    "    plt.plot(t, v, label=\"Velocity\")\n",
    "\n",
    "    plt.legend()\n",
    "    plt.show()\n",
    "\n",
    "    # Energies\n",
    "\n",
    "    ke = 0.5 * m * v ** 2\n",
    "    pot = 0.5 * k * x ** 2\n",
    "\n",
    "    plt.figure()\n",
    "\n",
    "    plt.plot(t, ke, label=\"Kinetic Energy\")\n",
    "    plt.plot(t, pot, label=\"Potential Energy\")\n",
    "    plt.plot(t, ke + pot, label=\"Total Energy\")\n",
    "\n",
    "    plt.legend()\n",
    "    plt.show()\n"
   ],
   "metadata": {
    "collapsed": false,
    "pycharm": {
     "name": "#%%\n"
    }
   }
  },
  {
   "cell_type": "markdown",
   "source": [
    "## Time Step Modelling\n",
    "\n",
    "Now we move onto applying the time step modelling to the system, here we use the `k, m, x0, v0` from the\n",
    "previous examples and provide new sliders for `dt, t_max`"
   ],
   "metadata": {
    "collapsed": false,
    "pycharm": {
     "name": "#%% md\n"
    }
   }
  },
  {
   "cell_type": "code",
   "source": [
    "\n",
    "n_k_slider = FloatSlider(min=0.1, max=5, step=0.1)\n",
    "n_m_slider = FloatSlider(min=0.1, max=5, step=0.1)\n",
    "\n",
    "n_initial_x_slider = FloatSlider(min=-3, max=3, step=0.1)\n",
    "n_initial_v_slider = FloatSlider(min=-3, max=3, step=0.1)\n",
    "\n",
    "@interact(k=n_k_slider, m=n_m_slider, initial_x=n_initial_x_slider, initial_v=n_initial_v_slider, dt=(0.01, 2, 0.01), t_max=(0, 10, 1))\n",
    "def timestep_playground(k, m, initial_x, initial_v, dt, t_max):\n",
    "    shm = SHM(k, m, initial_x, initial_v)\n",
    "\n",
    "    time_steps, x, v = shm.model(dt, t_max)\n",
    "\n",
    "    plt.figure()\n",
    "\n",
    "    plt.plot(time_steps, x, color=\"maroon\", label=\"Model Position\")\n",
    "    plt.plot(time_steps, v, color=\"olive\", label=\"Model Velocity\")\n",
    "\n",
    "    smooth_time = np.arange(0, t_max, 0.01)\n",
    "    theory_x, theory_v = shm.theory(smooth_time)\n",
    "\n",
    "    plt.plot(smooth_time, theory_x, linestyle='--', color=\"maroon\", label=\"Theoretical Position\")\n",
    "    plt.plot(smooth_time, theory_v, linestyle='--', color=\"olive\", label=\"Theoretical Velocity\")\n",
    "\n",
    "    plt.legend()\n",
    "    plt.show()\n",
    "\n",
    "    # Now we can use the scipy curve_fit function to test how the simulation matches up with prediction.\n",
    "    popt, pcov = curve_fit(\n",
    "        f = SHM.curve_fit_x,\n",
    "\n",
    "        xdata = time_steps,\n",
    "        ydata = x,\n",
    "\n",
    "        p0=[np.max(x), shm.omega, 0]\n",
    "    )\n",
    "\n",
    "    cf_amplitude, cf_omega, cf_phi = popt\n",
    "\n",
    "    table = [\n",
    "        [\"\", \"Amplitude\", \"Omega\", \"Phi\"],\n",
    "        [\"Theoretical\", shm.amplitude, shm.omega, shm.phi],\n",
    "        [\"Fitted\", cf_amplitude, cf_omega, cf_phi]\n",
    "    ]\n",
    "\n",
    "    display(HTML(tabulate.tabulate(table, tablefmt='html')))\n",
    "\n",
    "    plt.figure()\n",
    "\n",
    "    plt.plot(smooth_time, theory_x, linestyle='--', label=\"Theoretical Position\")\n",
    "    plt.plot(smooth_time, SHM.curve_fit_x(smooth_time, cf_amplitude, cf_omega, cf_phi), label=\"Fitted Position\")\n",
    "\n",
    "    plt.legend()\n",
    "    plt.show()"
   ],
   "metadata": {
    "collapsed": false,
    "pycharm": {
     "name": "#%%\n"
    }
   },
   "execution_count": 141,
   "outputs": [
    {
     "data": {
      "text/plain": "interactive(children=(FloatSlider(value=0.1, description='k', max=5.0, min=0.1), FloatSlider(value=0.1, descri…",
      "application/vnd.jupyter.widget-view+json": {
       "version_major": 2,
       "version_minor": 0,
       "model_id": "8e2817b2c30441778f8f859693fdaaa6"
      }
     },
     "metadata": {},
     "output_type": "display_data"
    }
   ]
  },
  {
   "cell_type": "markdown",
   "source": [
    "Possible comments to make\n",
    "\n",
    "- Tell them to play with the sliders\n",
    "- Comment on accuracy:\n",
    "    - More accurate as `dt` decreases\n",
    "    - Less accuracy as `t` increases.\n"
   ],
   "metadata": {
    "collapsed": false,
    "pycharm": {
     "name": "#%% md\n"
    }
   }
  }
 ],
 "metadata": {
  "kernelspec": {
   "display_name": "Python 3",
   "language": "python",
   "name": "python3"
  },
  "language_info": {
   "codemirror_mode": {
    "name": "ipython",
    "version": 2
   },
   "file_extension": ".py",
   "mimetype": "text/x-python",
   "name": "python",
   "nbconvert_exporter": "python",
   "pygments_lexer": "ipython2",
   "version": "2.7.6"
  }
 },
 "nbformat": 4,
 "nbformat_minor": 0
}